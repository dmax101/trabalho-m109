{
 "metadata": {
  "language_info": {
   "codemirror_mode": {
    "name": "ipython",
    "version": 3
   },
   "file_extension": ".py",
   "mimetype": "text/x-python",
   "name": "python",
   "nbconvert_exporter": "python",
   "pygments_lexer": "ipython3",
   "version": "3.8.6"
  },
  "orig_nbformat": 2,
  "kernelspec": {
   "name": "python3",
   "display_name": "Python 3.8.6 64-bit"
  },
  "metadata": {
   "interpreter": {
    "hash": "cb96c467eb985dcfc392ffb06268afceebc83924f1ff41db3c5d4f2ca3f3d58c"
   }
  },
  "interpreter": {
   "hash": "cb96c467eb985dcfc392ffb06268afceebc83924f1ff41db3c5d4f2ca3f3d58c"
  }
 },
 "nbformat": 4,
 "nbformat_minor": 2,
 "cells": [
  {
   "source": [
    "## Trabalho de M109\n",
    "\n",
    "|Nome|Matrícula|Curso|\n",
    "|---------|---------|---------|\n",
    "|Danilo Ribeiro|1411|Eng. Computação|\n",
    "|Luana Gribel Ito|1354|Eng. Computação|\n",
    "---"
   ],
   "cell_type": "markdown",
   "metadata": {}
  },
  {
   "cell_type": "code",
   "execution_count": 110,
   "metadata": {},
   "outputs": [],
   "source": [
    "import pprint as pp\n",
    "import pandas as pd\n",
    "from pathlib import Path\n",
    "from scipy import stats\n",
    "import numpy as np\n",
    "import matplotlib.pyplot as plt\n",
    "import math\n",
    "from collections import Counter\n",
    "from sklearn import preprocessing"
   ]
  },
  {
   "source": [
    "### Descomente qual exercício deseja executar"
   ],
   "cell_type": "markdown",
   "metadata": {}
  },
  {
   "cell_type": "code",
   "execution_count": 111,
   "metadata": {},
   "outputs": [],
   "source": [
    "#### Exercício 7.32\n",
    "table = \"table75.csv\"\n",
    "\n",
    "#### Exercício 7.33\n",
    "#table = \"table76.csv\""
   ]
  },
  {
   "cell_type": "code",
   "execution_count": 112,
   "metadata": {},
   "outputs": [],
   "source": [
    "path = Path(\"doc\", table)\n",
    "table = pd.read_csv(path, header=None)\n",
    "samples = table[0].values\n",
    "\n",
    "bins = 9 # 9"
   ]
  },
  {
   "cell_type": "code",
   "execution_count": 113,
   "metadata": {},
   "outputs": [],
   "source": [
    "m = np.mean(samples)\n",
    "s = np.std(samples, ddof=1)\n",
    "n = len(samples)"
   ]
  },
  {
   "cell_type": "code",
   "execution_count": 114,
   "metadata": {},
   "outputs": [],
   "source": [
    "x = (samples - m) / s"
   ]
  },
  {
   "cell_type": "code",
   "execution_count": 115,
   "metadata": {},
   "outputs": [
    {
     "output_type": "stream",
     "name": "stdout",
     "text": [
      "--------------------------------------------------\nEstatísticas\n--------------------------------------------------\nMédia: 14.000\nDesvio Padrão: 1.948\nN: 30\nKS: 0.100\nP-Value: 0.925\n"
     ]
    }
   ],
   "source": [
    "statistic, pvalue = stats.kstest(\n",
    "    x,\n",
    "    stats.norm.cdf,\n",
    "    N=n\n",
    ")\n",
    "\n",
    "print(50 * \"-\")\n",
    "print(\"Estatísticas\")\n",
    "print(50 * \"-\")\n",
    "print(\"Média: {:.3f}\".format(m))\n",
    "print(\"Desvio Padrão: {:.3f}\".format(s))\n",
    "print(\"N: {}\".format(n))\n",
    "print(\"KS: {:.3f}\".format(statistic))\n",
    "print(\"P-Value: {:.3f}\".format(pvalue))"
   ]
  },
  {
   "cell_type": "code",
   "execution_count": 133,
   "metadata": {},
   "outputs": [
    {
     "output_type": "error",
     "ename": "AttributeError",
     "evalue": "'set' object has no attribute 'min'",
     "traceback": [
      "\u001b[1;31m---------------------------------------------------------------------------\u001b[0m",
      "\u001b[1;31mAttributeError\u001b[0m                            Traceback (most recent call last)",
      "\u001b[1;32m<ipython-input-133-9e04a48ca4ea>\u001b[0m in \u001b[0;36m<module>\u001b[1;34m\u001b[0m\n\u001b[0;32m     15\u001b[0m \u001b[0max2\u001b[0m\u001b[1;33m.\u001b[0m\u001b[0mset_yscale\u001b[0m\u001b[1;33m(\u001b[0m\u001b[1;34m'log'\u001b[0m\u001b[1;33m)\u001b[0m\u001b[1;33m\u001b[0m\u001b[1;33m\u001b[0m\u001b[0m\n\u001b[0;32m     16\u001b[0m \u001b[1;31m# ax2.set_xticklabels()\u001b[0m\u001b[1;33m\u001b[0m\u001b[1;33m\u001b[0m\u001b[1;33m\u001b[0m\u001b[0m\n\u001b[1;32m---> 17\u001b[1;33m \u001b[0mprint\u001b[0m\u001b[1;33m(\u001b[0m\u001b[0mnp\u001b[0m\u001b[1;33m.\u001b[0m\u001b[0marange\u001b[0m\u001b[1;33m(\u001b[0m\u001b[0mset\u001b[0m\u001b[1;33m(\u001b[0m\u001b[0msamples\u001b[0m\u001b[1;33m)\u001b[0m\u001b[1;33m.\u001b[0m\u001b[0mmin\u001b[0m\u001b[1;33m(\u001b[0m\u001b[1;33m)\u001b[0m\u001b[1;33m,\u001b[0m \u001b[0mset\u001b[0m\u001b[1;33m(\u001b[0m\u001b[0msamples\u001b[0m\u001b[1;33m)\u001b[0m\u001b[1;33m.\u001b[0m\u001b[0mmax\u001b[0m\u001b[1;33m(\u001b[0m\u001b[1;33m)\u001b[0m\u001b[1;33m,\u001b[0m \u001b[1;36m2\u001b[0m\u001b[1;33m)\u001b[0m\u001b[1;33m)\u001b[0m\u001b[1;33m\u001b[0m\u001b[1;33m\u001b[0m\u001b[0m\n\u001b[0m\u001b[0;32m     18\u001b[0m \u001b[1;33m\u001b[0m\u001b[0m\n\u001b[0;32m     19\u001b[0m \u001b[1;31m# ax2.set_title('Probability Plot of Hours\\nNormal')\u001b[0m\u001b[1;33m\u001b[0m\u001b[1;33m\u001b[0m\u001b[1;33m\u001b[0m\u001b[0m\n",
      "\u001b[1;31mAttributeError\u001b[0m: 'set' object has no attribute 'min'"
     ]
    }
   ],
   "source": [
    "x = np.sort(x)\n",
    "y = np.arange(n) / float(n)\n",
    "d = stats.norm.cdf(x, loc=0, scale=1)\n",
    "\n",
    "f, (ax1, ax2) = plt.subplots(1, 2, sharey=False, figsize=(10, 4))\n",
    "ax1.set_title('Histograma')\n",
    "ax1.set_xlabel('Hours')\n",
    "ax1.set_ylabel('Frequency')\n",
    "ax1.set_xlim(samples.min() - 1, samples.max())\n",
    "ax1.hist(samples, bins=bins, align='left')\n",
    "\n",
    "ax2.set_title('Probability Plot of Hours\\nNormal')\n",
    "ax2.set_ylabel('Percent')\n",
    "ax2.set_yscale('linear')\n",
    "ax2.set_yscale('log')\n",
    "# ax2.set_xticklabels()\n",
    "print(np.arange(min(set(samples)), max(set(samples)), 2))\n",
    "\n",
    "# ax2.set_title('Probability Plot of Hours\\nNormal')\n",
    "# ax2.plot(x, y, 'o')\n",
    "# ax2.set_ylabel('Percent')\n",
    "# ax2.set_yscale('linear')\n",
    "# ax2.set_xticklabels(samples)\n",
    "\n",
    "# ax2.plot(x, d, 'r', linewidth=1)\n",
    "# print(ax2.get_yticks())\n",
    "# ax2.grid(b=True, which='both', axis='both')"
   ]
  }
 ]
}